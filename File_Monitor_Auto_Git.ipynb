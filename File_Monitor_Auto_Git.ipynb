{
  "nbformat": 4,
  "nbformat_minor": 0,
  "metadata": {
    "colab": {
      "provenance": [],
      "authorship_tag": "ABX9TyPtWcBX1+TbwcVrTBIdp3qQ",
      "include_colab_link": true
    },
    "kernelspec": {
      "name": "python3",
      "display_name": "Python 3"
    },
    "language_info": {
      "name": "python"
    }
  },
  "cells": [
    {
      "cell_type": "markdown",
      "metadata": {
        "id": "view-in-github",
        "colab_type": "text"
      },
      "source": [
        "<a href=\"https://colab.research.google.com/github/deitar/file-monitoring-auto-git/blob/main/File_Monitor_Auto_Git.ipynb\" target=\"_parent\"><img src=\"https://colab.research.google.com/assets/colab-badge.svg\" alt=\"Open In Colab\"/></a>"
      ]
    },
    {
      "cell_type": "code",
      "source": [],
      "metadata": {
        "id": "K7ObH_Pbhi3E"
      },
      "execution_count": null,
      "outputs": []
    },
    {
      "cell_type": "code",
      "execution_count": 57,
      "metadata": {
        "id": "Ywej7sLlbNSE"
      },
      "outputs": [],
      "source": [
        "import random\n",
        "import string\n",
        "import os\n",
        "import time\n",
        "import subprocess\n",
        "from datetime import datetime"
      ]
    },
    {
      "cell_type": "code",
      "source": [
        "# Create random dummy files for experimentation\n",
        "def generate_random_text(length):\n",
        "    return ''.join(random.choice(string.ascii_letters + string.digits + string.punctuation) for _ in range(length))\n",
        "\n",
        "def create_random_files(file_count, file_length):\n",
        "    for i in range(file_count):\n",
        "        file_name = f'file{i+1}.txt'\n",
        "        random_text = generate_random_text(file_length)\n",
        "        with open(file_name, 'w') as file:\n",
        "            file.write(random_text)\n",
        "        print(f'File \"{file_name}\" created.')\n",
        "\n",
        "# Usage example\n",
        "file_count = 5\n",
        "file_length = 100\n",
        "\n",
        "create_random_files(file_count, file_length)"
      ],
      "metadata": {
        "colab": {
          "base_uri": "https://localhost:8080/"
        },
        "id": "SgLwYNl3bYEU",
        "outputId": "fe36c1a5-fe23-4b63-ef3b-26cef5a37598"
      },
      "execution_count": 36,
      "outputs": [
        {
          "output_type": "stream",
          "name": "stdout",
          "text": [
            "File \"file1.txt\" created.\n",
            "File \"file2.txt\" created.\n",
            "File \"file3.txt\" created.\n",
            "File \"file4.txt\" created.\n",
            "File \"file5.txt\" created.\n"
          ]
        }
      ]
    },
    {
      "cell_type": "code",
      "source": [],
      "metadata": {
        "id": "Xihww0X5bYHD"
      },
      "execution_count": 26,
      "outputs": []
    },
    {
      "cell_type": "code",
      "source": [
        "GIT_USERNAME = ''"
      ],
      "metadata": {
        "id": "VqVaIBWFjtU_"
      },
      "execution_count": null,
      "outputs": []
    },
    {
      "cell_type": "code",
      "source": [
        "GIT_PASSWORD = ''"
      ],
      "metadata": {
        "id": "vWnA5Gt40Sj4"
      },
      "execution_count": null,
      "outputs": []
    },
    {
      "cell_type": "code",
      "source": [
        "FOLDER_TO_LOCAL_GIT_REPO = '.' # set path to git local repository"
      ],
      "metadata": {
        "id": "wlI2mYh4cAW9"
      },
      "execution_count": 49,
      "outputs": []
    },
    {
      "cell_type": "code",
      "source": [
        "FOLDER_PATH_TO_MONITOR = None # None if you are monitoring current directory"
      ],
      "metadata": {
        "id": "u0zDi90ocpnD"
      },
      "execution_count": 50,
      "outputs": []
    },
    {
      "cell_type": "code",
      "source": [
        "MONITOR_TIMEOUT_SECS = 2"
      ],
      "metadata": {
        "id": "_TEAZf2llHju"
      },
      "execution_count": 51,
      "outputs": []
    },
    {
      "cell_type": "code",
      "source": [
        "os.chdir(FOLDER_TO_LOCAL_GIT_REPO) # set working directory to airflow"
      ],
      "metadata": {
        "id": "WtDh9thDjQKR"
      },
      "execution_count": 52,
      "outputs": []
    },
    {
      "cell_type": "code",
      "source": [
        "def generate_current_datetime_str():\n",
        "  current_datetime = datetime.now()\n",
        "  current_datetime_string = current_datetime.strftime(\"%Y-%m-%d %H:%M:%S\")\n",
        "  return current_datetime_string"
      ],
      "metadata": {
        "id": "akdJjc060soX"
      },
      "execution_count": 58,
      "outputs": []
    },
    {
      "cell_type": "code",
      "source": [
        "def run_git_command(command):\n",
        "    try:\n",
        "        output = subprocess.check_output(['git'] + command.split(), stderr=subprocess.STDOUT)\n",
        "        return output.decode('utf-8').strip()\n",
        "    except subprocess.CalledProcessError as e:\n",
        "        error_message = e.output.decode('utf-8').strip()\n",
        "        print(f'Git command failed with error: {error_message}')\n",
        "\n",
        "# Example usage\n",
        "command = 'checkout -b new_branch'\n",
        "result = run_git_command(command)\n",
        "print(result)\n"
      ],
      "metadata": {
        "colab": {
          "base_uri": "https://localhost:8080/"
        },
        "id": "GSO9EEiDbYJZ",
        "outputId": "9f248094-5365-4dea-f8a2-77b11d19db8a"
      },
      "execution_count": 53,
      "outputs": [
        {
          "output_type": "stream",
          "name": "stdout",
          "text": [
            "Git command failed with error: fatal: not a git repository (or any of the parent directories): .git\n",
            "None\n"
          ]
        }
      ]
    },
    {
      "cell_type": "code",
      "source": [
        "def git_push_with_credentials(remote_name='origin', branch_name='chore'):\n",
        "    try:\n",
        "        push_command = f'git push {remote_name} {branch_name}'\n",
        "        process = subprocess.Popen(push_command.split(), stdout=subprocess.PIPE, stderr=subprocess.PIPE)\n",
        "        output, error = process.communicate()\n",
        "\n",
        "        if process.returncode == 0:\n",
        "            print(\"Git push successful.\")\n",
        "        else:\n",
        "            print(\"Git push failed.\")\n",
        "            if b'Username for' in error:\n",
        "                username = GIT_USERNAME # input(\"Enter your username: \")\n",
        "                password = GIT_PASSWORD # input(\"Enter your password: \")\n",
        "                credentials = f'{username}:{password}'\n",
        "                process = subprocess.Popen(push_command.split(), stdout=subprocess.PIPE, stderr=subprocess.PIPE,\n",
        "                                           stdin=subprocess.PIPE)\n",
        "                output, error = process.communicate(input=credentials.encode())\n",
        "\n",
        "                if process.returncode == 0:\n",
        "                    print(\"Git push successful.\")\n",
        "                else:\n",
        "                    print(\"Git push failed with provided credentials.\")\n",
        "            else:\n",
        "                print(\"An error occurred during the Git push.\")\n",
        "                print(\"Error message:\", error.decode('utf-8').strip())\n",
        "    except OSError as e:\n",
        "        print(\"Error executing Git push command:\", e)\n",
        "\n",
        "# # Example usage\n",
        "# git_push_with_credentials()\n"
      ],
      "metadata": {
        "colab": {
          "base_uri": "https://localhost:8080/"
        },
        "id": "R0Q3BWn6qc_v",
        "outputId": "fa5442ce-723d-4514-d886-cf34dc044d0a"
      },
      "execution_count": 56,
      "outputs": [
        {
          "output_type": "stream",
          "name": "stdout",
          "text": [
            "Git push failed.\n",
            "An error occurred during the Git push.\n",
            "Error message: fatal: not a git repository (or any of the parent directories): .git\n"
          ]
        }
      ]
    },
    {
      "cell_type": "code",
      "source": [
        "file_times = {} # dictionary keeping the filepaths and last modified time as value\n",
        "\n",
        "while True:\n",
        "  for filename in os.listdir(FOLDER_PATH_TO_MONITOR):\n",
        "    file_path = os.path.join(FOLDER_PATH_TO_MONITOR or '', filename)\n",
        "    if os.path.isfile(file_path): # check if path corresponds to a file\n",
        "      new_modified_file_time = os.path.getmtime(file_path)\n",
        "      old_modified_file_time = file_times.get(file_path)\n",
        "      if old_modified_file_time is None or (old_modified_file_time is not None and new_modified_file_time > old_modified_file_time):\n",
        "        # if file has not been captured when program starts\n",
        "        # or file has been modified\n",
        "        # push to git\n",
        "\n",
        "        # set branch name\n",
        "        filename_without_ext = os.path.splitext(filename)[0]\n",
        "        git_branch_name = f'modified_{filename_without_ext.replace(\" \",\"_\")}'\n",
        "\n",
        "        print(file_path)\n",
        "        print(new_modified_file_time)\n",
        "        # git checkout -b branch\n",
        "        run_git_command(f'checkout -b {git_branch_name}')\n",
        "        # git add filepath\n",
        "        run_git_command(f'add {file_path}')\n",
        "        # git commit -m \"modified {filename}\"\n",
        "        run_git_command(f'commit -m \"modified {filename} - {generate_current_datetime_str()}\"')\n",
        "        # git push\n",
        "        git_push_with_credentials(branch_name = git_branch_name)\n",
        "\n",
        "      file_times[file_path] = new_modified_file_time\n",
        "    # print(file_times)\n",
        "\n",
        "    time.sleep(MONITOR_TIMEOUT_SECS)"
      ],
      "metadata": {
        "id": "BuhbBf5Xb5v1"
      },
      "execution_count": null,
      "outputs": []
    },
    {
      "cell_type": "code",
      "source": [],
      "metadata": {
        "id": "lyneXZh2bPzg"
      },
      "execution_count": 56,
      "outputs": []
    },
    {
      "cell_type": "code",
      "source": [],
      "metadata": {
        "id": "q0j-S1rhbP1V"
      },
      "execution_count": null,
      "outputs": []
    },
    {
      "cell_type": "code",
      "source": [],
      "metadata": {
        "id": "yaNHRk7zqaKw"
      },
      "execution_count": null,
      "outputs": []
    },
    {
      "cell_type": "code",
      "source": [],
      "metadata": {
        "id": "oZicHCK6qaCq"
      },
      "execution_count": null,
      "outputs": []
    },
    {
      "cell_type": "code",
      "source": [],
      "metadata": {
        "id": "h0DWfjW6qZ-v"
      },
      "execution_count": null,
      "outputs": []
    }
  ]
}